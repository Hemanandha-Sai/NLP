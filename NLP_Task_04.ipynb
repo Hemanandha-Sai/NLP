{
  "nbformat": 4,
  "nbformat_minor": 0,
  "metadata": {
    "colab": {
      "provenance": [],
      "authorship_tag": "ABX9TyOpcxNRt1PAgQDUcBs8bKw1",
      "include_colab_link": true
    },
    "kernelspec": {
      "name": "python3",
      "display_name": "Python 3"
    },
    "language_info": {
      "name": "python"
    }
  },
  "cells": [
    {
      "cell_type": "markdown",
      "metadata": {
        "id": "view-in-github",
        "colab_type": "text"
      },
      "source": [
        "<a href=\"https://colab.research.google.com/github/Hemanandha-Sai/NLP/blob/main/NLP_Task_4.ipynb\" target=\"_parent\"><img src=\"https://colab.research.google.com/assets/colab-badge.svg\" alt=\"Open In Colab\"/></a>"
      ]
    },
    {
      "cell_type": "code",
      "source": [
        "import nltk\n",
        "from nltk.tokenize import word_tokenize\n",
        "from nltk.corpus import stopwords\n",
        "from collections import Counter\n",
        "import string\n",
        "\n",
        "text = \"\"\"\n",
        "Hola, me llamo Ashok y soy de India. Actualmente estudio en la Universidad Veltech en Chennai.\n",
        "Mis cosas favoritas son bailar y jugar cricket. Todos los días escucho música.\n",
        "\"\"\"\n",
        "\n",
        "tokens = word_tokenize(text.lower())\n",
        "\n",
        "tokens = [word for word in tokens if word.isalpha()]\n",
        "\n",
        "stop_words = set(stopwords.words('spanish'))\n",
        "filtered_tokens = [word for word in tokens if word not in stop_words]\n",
        "\n",
        "# 4. Count frequency of remaining words\n",
        "freq_dist = Counter(filtered_tokens)\n",
        "\n",
        "# 5. Print the most common words\n",
        "most_common = freq_dist.most_common(10)\n",
        "print(\"Most frequent words (after stopword removal):\")\n",
        "for word, freq in most_common:\n",
        "    print(f\"{word}: {freq}\")\n"
      ],
      "metadata": {
        "colab": {
          "base_uri": "https://localhost:8080/"
        },
        "id": "Pyg98F_dQs1F",
        "outputId": "82fb1598-7ad7-459e-a268-9725c1ea7ad9"
      },
      "execution_count": 5,
      "outputs": [
        {
          "output_type": "stream",
          "name": "stdout",
          "text": [
            "Most frequent words (after stopword removal):\n",
            "hola: 1\n",
            "llamo: 1\n",
            "ashok: 1\n",
            "india: 1\n",
            "actualmente: 1\n",
            "estudio: 1\n",
            "universidad: 1\n",
            "veltech: 1\n",
            "chennai: 1\n",
            "cosas: 1\n"
          ]
        }
      ]
    }
  ]
}
