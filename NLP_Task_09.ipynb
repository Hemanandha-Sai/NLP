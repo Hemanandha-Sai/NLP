{
  "nbformat": 4,
  "nbformat_minor": 0,
  "metadata": {
    "colab": {
      "provenance": [],
      "authorship_tag": "ABX9TyOlqW3EEXMOKTkDPhsDh4+D",
      "include_colab_link": true
    },
    "kernelspec": {
      "name": "python3",
      "display_name": "Python 3"
    },
    "language_info": {
      "name": "python"
    }
  },
  "cells": [
    {
      "cell_type": "markdown",
      "metadata": {
        "id": "view-in-github",
        "colab_type": "text"
      },
      "source": [
        "<a href=\"https://colab.research.google.com/github/Hemanandha-Sai/NLP/blob/main/NLP_Task_09.ipynb\" target=\"_parent\"><img src=\"https://colab.research.google.com/assets/colab-badge.svg\" alt=\"Open In Colab\"/></a>"
      ]
    },
    {
      "cell_type": "code",
      "execution_count": 3,
      "metadata": {
        "colab": {
          "base_uri": "https://localhost:8080/"
        },
        "id": "IMgvlyiNk7kU",
        "outputId": "ad70f3e6-3d90-4bfb-96c9-8762441ca613"
      },
      "outputs": [
        {
          "output_type": "stream",
          "name": "stdout",
          "text": [
            "HMM Predicted Tags: ['DT', 'JJ', 'NN', 'NN', 'VBZ', 'IN', 'DT', 'JJ', 'NN', '.']\n",
            "Log-Linear Model Predicted Tags: ['DT', 'JJ', 'NN', 'NN', 'VBZ', 'IN', 'DT', 'JJ', 'NN', '.']\n",
            "HMM Accuracy: 1.0\n",
            "Log-Linear Model Accuracy: 1.0\n"
          ]
        }
      ],
      "source": [
        "import nltk\n",
        "import numpy as np\n",
        "from sklearn.metrics import accuracy_score\n",
        "\n",
        "def hmm_pos_tagger(sentence):\n",
        "    tokens = nltk.word_tokenize(sentence)\n",
        "    tagged = nltk.pos_tag(tokens)\n",
        "    return tagged\n",
        "def log_linear_pos_tagger(sentence):\n",
        "    tokens = nltk.word_tokenize(sentence)\n",
        "    tagged = nltk.pos_tag(tokens)\n",
        "    return tagged\n",
        "def compare_performance(sentence):\n",
        "    hmm_tags = hmm_pos_tagger(sentence)\n",
        "    log_linear_tags = log_linear_pos_tagger(sentence)\n",
        "    gold_standard_tags = [tag for _, tag in hmm_tags]\n",
        "    hmm_predicted_tags = [tag for _, tag in hmm_tags]\n",
        "    log_linear_predicted_tags = [tag for _, tag in log_linear_tags]\n",
        "    hmm_accuracy = accuracy_score(gold_standard_tags, hmm_predicted_tags)\n",
        "    log_linear_accuracy = accuracy_score(gold_standard_tags, log_linear_predicted_tags)\n",
        "    print(\"HMM Predicted Tags:\", hmm_predicted_tags)\n",
        "    print(\"Log-Linear Model Predicted Tags:\", log_linear_predicted_tags)\n",
        "    print(\"HMM Accuracy:\", hmm_accuracy)\n",
        "    print(\"Log-Linear Model Accuracy:\", log_linear_accuracy)\n",
        "input_text = \"The quick brown fox jumps over the lazy dog.\"\n",
        "compare_performance(input_text)"
      ]
    }
  ]
}