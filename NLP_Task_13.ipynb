{
  "nbformat": 4,
  "nbformat_minor": 0,
  "metadata": {
    "colab": {
      "provenance": [],
      "authorship_tag": "ABX9TyO9c8GsoothHzt+0LxZRWRK",
      "include_colab_link": true
    },
    "kernelspec": {
      "name": "python3",
      "display_name": "Python 3"
    },
    "language_info": {
      "name": "python"
    }
  },
  "cells": [
    {
      "cell_type": "markdown",
      "metadata": {
        "id": "view-in-github",
        "colab_type": "text"
      },
      "source": [
        "<a href=\"https://colab.research.google.com/github/Hemanandha-Sai/NLP/blob/main/NLP_Task_12.ipynb\" target=\"_parent\"><img src=\"https://colab.research.google.com/assets/colab-badge.svg\" alt=\"Open In Colab\"/></a>"
      ]
    },
    {
      "cell_type": "code",
      "execution_count": 2,
      "metadata": {
        "colab": {
          "base_uri": "https://localhost:8080/"
        },
        "id": "vXcRpA0Zmz77",
        "outputId": "c6dff1cc-2cce-4132-a22c-74613263f456"
      },
      "outputs": [
        {
          "output_type": "stream",
          "name": "stdout",
          "text": [
            "====================================\n",
            " Interactive Emotion Analysis tool\n",
            "====================================\n",
            "Type 'exit' or 'quit' to close the Program.\n",
            "\n",
            "Initializing emotion detection model: SamLowe/roberta-base-go_emotions...\n",
            "This may take a moment on the first run as the model is downloaded.\n"
          ]
        },
        {
          "output_type": "stream",
          "name": "stderr",
          "text": [
            "Device set to use cpu\n"
          ]
        },
        {
          "output_type": "stream",
          "name": "stdout",
          "text": [
            "Model loaded successfully. You can start analyzing text now.\n",
            "\n",
            "Enter text to Analyze: I just won the first prize in competetion\n",
            "\n",
            "-- Analysis Result --\n",
            "Text Input: 'I just won the first prize in competetion'\n",
            "Predicted Emotion: Excitement (Confidence: 55.32%)\n",
            "\n",
            "Enter text to Analyze: quit\n",
            "Exiting the tool. Goodbye!\n"
          ]
        }
      ],
      "source": [
        "from transformers import pipeline\n",
        "\n",
        "MODEL_PATH = \"SamLowe/roberta-base-go_emotions\"\n",
        "\n",
        "def load_classifier_model(model_name):\n",
        "    \"\"\"Loads the pre-trained text classification model from Hugging Face.\"\"\"\n",
        "    print(f\"Initializing emotion detection model: {model_name}...\")\n",
        "    print(\"This may take a moment on the first run as the model is downloaded.\")\n",
        "\n",
        "    # Create a text-classification pipeline with the specified model\n",
        "    emotion_classifier = pipeline(\"text-classification\", model=model_name, top_k=1)\n",
        "\n",
        "    print(\"Model loaded successfully. You can start analyzing text now.\")\n",
        "    return emotion_classifier\n",
        "\n",
        "def display_result(text, result):\n",
        "    \"\"\"Formats and prints the emotion analysis result.\"\"\"\n",
        "    # The result is a list containing a list of dictionaries, so access the first element of the inner list\n",
        "    prediction = result[0][0]\n",
        "    label = prediction['label']\n",
        "    score = prediction['score']\n",
        "\n",
        "    print(\"\\n-- Analysis Result --\")\n",
        "    print(f\"Text Input: '{text}'\")\n",
        "    print(f\"Predicted Emotion: {label.capitalize()} (Confidence: {score:.2%})\")\n",
        "\n",
        "def main():\n",
        "    \"\"\"Main function to run the interactive emotion analysis tool.\"\"\"\n",
        "    print(\"====================================\")\n",
        "    print(\" Interactive Emotion Analysis tool\")\n",
        "    print(\"====================================\")\n",
        "    print(\"Type 'exit' or 'quit' to close the Program.\\n\")\n",
        "\n",
        "    # Load the model\n",
        "    classifier = load_classifier_model(MODEL_PATH)\n",
        "\n",
        "    # Start the interactive loop\n",
        "    while True:\n",
        "        user_input = input(\"\\nEnter text to Analyze: \")\n",
        "\n",
        "        # Check if the user wants to exit\n",
        "        if user_input.lower() in ['exit', 'quit']:\n",
        "            print(\"Exiting the tool. Goodbye!\")\n",
        "            break\n",
        "\n",
        "        # Check for empty input\n",
        "        if not user_input.strip():\n",
        "            print(\"Please enter some text to analyze.\")\n",
        "            continue\n",
        "\n",
        "        # Get the prediction from the model\n",
        "        prediction_result = classifier(user_input)\n",
        "\n",
        "        # Display the formatted result\n",
        "        display_result(user_input, prediction_result)\n",
        "\n",
        "if __name__ == \"__main__\":\n",
        "    main()"
      ]
    }
  ]
}
