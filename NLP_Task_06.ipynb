{
  "nbformat": 4,
  "nbformat_minor": 0,
  "metadata": {
    "colab": {
      "provenance": [],
      "authorship_tag": "ABX9TyOeqy3GvMfD85Nac6LCxPEt",
      "include_colab_link": true
    },
    "kernelspec": {
      "name": "python3",
      "display_name": "Python 3"
    },
    "language_info": {
      "name": "python"
    }
  },
  "cells": [
    {
      "cell_type": "markdown",
      "metadata": {
        "id": "view-in-github",
        "colab_type": "text"
      },
      "source": [
        "<a href=\"https://colab.research.google.com/github/Hemanandha-Sai/NLP/blob/main/N_gram_Model_Using_laplace_6.ipynb\" target=\"_parent\"><img src=\"https://colab.research.google.com/assets/colab-badge.svg\" alt=\"Open In Colab\"/></a>"
      ]
    },
    {
      "cell_type": "code",
      "execution_count": 5,
      "metadata": {
        "id": "9lqwqQ86I4pW",
        "colab": {
          "base_uri": "https://localhost:8080/"
        },
        "outputId": "7f2fd732-40b9-4a14-e84f-0373f1c32ab5"
      },
      "outputs": [
        {
          "output_type": "stream",
          "name": "stderr",
          "text": [
            "[nltk_data] Downloading package punkt_tab to /root/nltk_data...\n",
            "[nltk_data]   Package punkt_tab is already up-to-date!\n"
          ]
        },
        {
          "output_type": "stream",
          "name": "stdout",
          "text": [
            "Enter a sentence: Hey, how r u..\n",
            "Enter the value of N for N-grams: 4\n",
            "Next words: </s> </s> </s>\n"
          ]
        }
      ],
      "source": [
        "from nltk.util import ngrams\n",
        "from nltk.lm import Laplace\n",
        "from nltk.tokenize import word_tokenize\n",
        "from nltk.lm.preprocessing import padded_everygram_pipeline\n",
        "import nltk\n",
        "nltk.download('punkt_tab')\n",
        "\n",
        "def ngram_smoothing(sentence, n):\n",
        "    tokens = word_tokenize(sentence.lower())\n",
        "\n",
        "    train_data, padded_sents = padded_everygram_pipeline(n, [tokens])\n",
        "    model = Laplace(n)\n",
        "    model.fit(train_data, padded_sents)\n",
        "    return model, tokens\n",
        "\n",
        "sentence = input(\"Enter a sentence: \")\n",
        "n = int(input(\"Enter the value of N for N-grams: \"))\n",
        "model, tokens = ngram_smoothing(sentence, n)\n",
        "\n",
        "if n == 1:\n",
        "    context = ()\n",
        "else:\n",
        "    context = tuple(tokens[-(n-1):])\n",
        "\n",
        "next_words = model.generate(3, text_seed=context)\n",
        "print(\"Next words:\", ' '.join(next_words))\n"
      ]
    }
  ]
}
