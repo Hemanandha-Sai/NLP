{
  "nbformat": 4,
  "nbformat_minor": 0,
  "metadata": {
    "colab": {
      "provenance": [],
      "authorship_tag": "ABX9TyNaiK9P/s3uoJcE8PUpNkhy",
      "include_colab_link": true
    },
    "kernelspec": {
      "name": "python3",
      "display_name": "Python 3"
    },
    "language_info": {
      "name": "python"
    }
  },
  "cells": [
    {
      "cell_type": "markdown",
      "metadata": {
        "id": "view-in-github",
        "colab_type": "text"
      },
      "source": [
        "<a href=\"https://colab.research.google.com/github/Hemanandha-Sai/NLP/blob/main/NLP_Task_08.ipynb\" target=\"_parent\"><img src=\"https://colab.research.google.com/assets/colab-badge.svg\" alt=\"Open In Colab\"/></a>"
      ]
    },
    {
      "cell_type": "code",
      "execution_count": 3,
      "metadata": {
        "colab": {
          "base_uri": "https://localhost:8080/"
        },
        "id": "iEMRNhyhZ0cT",
        "outputId": "300b9ac3-6944-4f51-84ab-0905817352df"
      },
      "outputs": [
        {
          "output_type": "stream",
          "name": "stderr",
          "text": [
            "/tmp/ipython-input-4133703536.py:12: DeprecationWarning: \n",
            "  Function evaluate() has been deprecated.  Use accuracy(gold)\n",
            "  instead.\n",
            "  hmm_accuracy = hmm_tagger.evaluate(test_data)\n"
          ]
        },
        {
          "output_type": "stream",
          "name": "stdout",
          "text": [
            "HMM Tagger Accuracy: 0.3647\n"
          ]
        }
      ],
      "source": [
        "import nltk\n",
        "from nltk.corpus import treebank\n",
        "from nltk.tag import hmm\n",
        "from nltk.classify import MaxentClassifier\n",
        "\n",
        "from nltk.tag import PerceptronTagger, StanfordTagger\n",
        "\n",
        "corpus = list(treebank.tagged_sents())\n",
        "train_data = corpus[:int(0.8 * len(corpus))]\n",
        "test_data = corpus[int(0.8 * len(corpus)):]\n",
        "hmm_tagger = hmm.HiddenMarkovModelTrainer().train(train_data)\n",
        "hmm_accuracy = hmm_tagger.evaluate(test_data)\n",
        "print(f\"HMM Tagger Accuracy: {hmm_accuracy:.4f}\")"
      ]
    }
  ]
}