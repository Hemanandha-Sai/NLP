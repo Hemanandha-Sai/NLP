{
  "nbformat": 4,
  "nbformat_minor": 0,
  "metadata": {
    "colab": {
      "provenance": [],
      "authorship_tag": "ABX9TyNjqKt6RoZIdNSQCmDEaqba",
      "include_colab_link": true
    },
    "kernelspec": {
      "name": "python3",
      "display_name": "Python 3"
    },
    "language_info": {
      "name": "python"
    }
  },
  "cells": [
    {
      "cell_type": "markdown",
      "metadata": {
        "id": "view-in-github",
        "colab_type": "text"
      },
      "source": [
        "<a href=\"https://colab.research.google.com/github/Hemanandha-Sai/NLP/blob/main/Performing_Word_Analysis.ipynb\" target=\"_parent\"><img src=\"https://colab.research.google.com/assets/colab-badge.svg\" alt=\"Open In Colab\"/></a>"
      ]
    },
    {
      "cell_type": "code",
      "execution_count": null,
      "metadata": {
        "colab": {
          "base_uri": "https://localhost:8080/"
        },
        "id": "Fz5bO-EyIixm",
        "outputId": "3316a04f-99cd-4e66-9f9a-deef369fc1ff"
      },
      "outputs": [
        {
          "output_type": "stream",
          "name": "stdout",
          "text": [
            "Tokens: ['Tokenization', 'without', 'transformers', 'is', 'straightforward', 'with', 'tools', 'like', 'NLTK', '.']\n",
            "Transformers Tokens: {'input_ids': tensor([[  101, 19204,  3989,  2302, 19081,  2003, 19647,  2007,  5906,  2066,\n",
            "         17953,  2102,  2243,  1012,   102]]), 'token_type_ids': tensor([[0, 0, 0, 0, 0, 0, 0, 0, 0, 0, 0, 0, 0, 0, 0]]), 'attention_mask': tensor([[1, 1, 1, 1, 1, 1, 1, 1, 1, 1, 1, 1, 1, 1, 1]])}\n",
            "Transformers Tokens (List): ['[CLS]', 'token', '##ization', 'without', 'transformers', 'is', 'straightforward', 'with', 'tools', 'like', 'nl', '##t', '##k', '.', '[SEP]']\n",
            "Decoded Text: tokenization without transformers is straightforward with tools like nltk.\n"
          ]
        }
      ],
      "source": [
        "import nltk\n",
        "from nltk.tokenize import word_tokenize\n",
        "\n",
        "text = \"Tokenization without transformers is straightforward with tools like NLTK.\"\n",
        "tokens = word_tokenize(text)\n",
        "print(\"Tokens:\", tokens)\n",
        "\n",
        "from transformers import AutoTokenizer\n",
        "\n",
        "tokenizer = AutoTokenizer.from_pretrained(\"bert-base-uncased\")\n",
        "\n",
        "tokens_transformers = tokenizer(text, return_tensors=\"pt\")\n",
        "print(\"Transformers Tokens:\", tokens_transformers)\n",
        "\n",
        "# Convert input_ids tensor to a list of token IDs\n",
        "token_ids = tokens_transformers['input_ids'][0].tolist()\n",
        "\n",
        "# Convert token IDs to tokens (strings)\n",
        "tokens_transformers_list = tokenizer.convert_ids_to_tokens(token_ids)\n",
        "print(\"Transformers Tokens (List):\", tokens_transformers_list)\n",
        "\n",
        "# Decode tokens back to text, skipping special tokens like [CLS], [SEP]\n",
        "decoded_text = tokenizer.decode(token_ids, skip_special_tokens=True)\n",
        "print(\"Decoded Text:\", decoded_text)\n"
      ]
    }
  ]
}
