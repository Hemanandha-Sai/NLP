{
  "nbformat": 4,
  "nbformat_minor": 0,
  "metadata": {
    "colab": {
      "provenance": [],
      "authorship_tag": "ABX9TyPbkJmPmeocdn2kt7YKhblL",
      "include_colab_link": true
    },
    "kernelspec": {
      "name": "python3",
      "display_name": "Python 3"
    },
    "language_info": {
      "name": "python"
    }
  },
  "cells": [
    {
      "cell_type": "markdown",
      "metadata": {
        "id": "view-in-github",
        "colab_type": "text"
      },
      "source": [
        "<a href=\"https://colab.research.google.com/github/Hemanandha-Sai/NLP/blob/main/NLP_Task_07.ipynb\" target=\"_parent\"><img src=\"https://colab.research.google.com/assets/colab-badge.svg\" alt=\"Open In Colab\"/></a>"
      ]
    },
    {
      "cell_type": "code",
      "execution_count": 6,
      "metadata": {
        "colab": {
          "base_uri": "https://localhost:8080/"
        },
        "id": "Ipm6MhKOUR8n",
        "outputId": "8e24ff54-c89f-4b5e-c5ab-867e634c4a6b"
      },
      "outputs": [
        {
          "output_type": "stream",
          "name": "stderr",
          "text": [
            "[nltk_data] Downloading package treebank to /root/nltk_data...\n",
            "[nltk_data]   Package treebank is already up-to-date!\n",
            "[nltk_data] Downloading package punkt to /root/nltk_data...\n",
            "[nltk_data]   Package punkt is already up-to-date!\n"
          ]
        },
        {
          "output_type": "stream",
          "name": "stdout",
          "text": [
            "Enter a sentence: NLP\n",
            "[('NLP', 'NNP')]\n"
          ]
        }
      ],
      "source": [
        "import nltk\n",
        "\n",
        "nltk.download('treebank')\n",
        "nltk.download('punkt')\n",
        "\n",
        "from nltk.corpus import treebank\n",
        "from nltk.tag import hmm\n",
        "\n",
        "corpus = treebank.tagged_sents()\n",
        "\n",
        "train_data = corpus[:3000]\n",
        "test_data = corpus[3000:]\n",
        "\n",
        "trainer = hmm.HiddenMarkovModelTrainer()\n",
        "hmm_tagger = trainer.train_supervised(train_data)\n",
        "\n",
        "sentence = input(\"Enter a sentence: \")\n",
        "tokens = nltk.word_tokenize(sentence)\n",
        "tagged_sentence = hmm_tagger.tag(tokens)\n",
        "\n",
        "print(tagged_sentence)"
      ]
    }
  ]
}